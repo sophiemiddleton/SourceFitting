{
 "cells": [
  {
   "cell_type": "code",
   "execution_count": 2,
   "metadata": {},
   "outputs": [],
   "source": [
    "import uproot\n",
    "import tensorflow as tf\n",
    "import zfit\n",
    "import awkward as ak\n",
    "import matplotlib.pyplot as plt\n",
    "#import pyroot\n",
    "import numpy as np\n"
   ]
  },
  {
   "cell_type": "code",
   "execution_count": 4,
   "metadata": {},
   "outputs": [
    {
     "ename": "AttributeError",
     "evalue": "'TH1F' object has no attribute 'to_numpy'",
     "output_type": "error",
     "traceback": [
      "\u001b[0;31m---------------------------------------------------------------------------\u001b[0m",
      "\u001b[0;31mAttributeError\u001b[0m                            Traceback (most recent call last)",
      "\u001b[0;32m/var/folders/9b/6_fylmnd6ylft4gvh_slwb3h0000gn/T/ipykernel_18628/4273171183.py\u001b[0m in \u001b[0;36m<module>\u001b[0;34m\u001b[0m\n\u001b[1;32m      3\u001b[0m \u001b[0mTH1F_name\u001b[0m \u001b[0;34m=\u001b[0m \u001b[0;34m[\u001b[0m\u001b[0;34m\"h_spec\"\u001b[0m\u001b[0;34m,\u001b[0m \u001b[0;34m\"h_ratio\"\u001b[0m\u001b[0;34m,\u001b[0m \u001b[0;34m\"h_ntrg\"\u001b[0m\u001b[0;34m,\u001b[0m \u001b[0;34m\"h_stim\"\u001b[0m\u001b[0;34m,\u001b[0m \u001b[0;34m\"h_time\"\u001b[0m\u001b[0;34m,\u001b[0m \u001b[0;34m\"h_tErg\"\u001b[0m\u001b[0;34m]\u001b[0m\u001b[0;34m\u001b[0m\u001b[0;34m\u001b[0m\u001b[0m\n\u001b[1;32m      4\u001b[0m \u001b[0;31m#what is h_spec stand for?\u001b[0m\u001b[0;34m\u001b[0m\u001b[0;34m\u001b[0m\u001b[0m\n\u001b[0;32m----> 5\u001b[0;31m \u001b[0mh_spec\u001b[0m \u001b[0;34m=\u001b[0m \u001b[0mfile\u001b[0m\u001b[0;34m[\u001b[0m\u001b[0;34m\"h_spec\"\u001b[0m\u001b[0;34m]\u001b[0m\u001b[0;34m.\u001b[0m\u001b[0mto_numpy\u001b[0m\u001b[0;34m(\u001b[0m\u001b[0;34m)\u001b[0m\u001b[0;34m\u001b[0m\u001b[0;34m\u001b[0m\u001b[0m\n\u001b[0m",
      "\u001b[0;31mAttributeError\u001b[0m: 'TH1F' object has no attribute 'to_numpy'"
     ]
    }
   ],
   "source": [
    "#import crySpec root file and convert to numpy array\n",
    "file = uproot.open(\"mu2e_caloSimu_crySpec867.root\")\n",
    "TH1F_name = [\"h_spec\", \"h_ratio\", \"h_ntrg\", \"h_stim\", \"h_time\", \"h_tErg\"]\n",
    "#what is h_spec stand for?\n",
    "h_spec = file[\"h_spec\"].to_numpy()"
   ]
  },
  {
   "cell_type": "code",
   "execution_count": 5,
   "metadata": {},
   "outputs": [],
   "source": [
    "#parameters for crystal ball function: mu(mean--peak), sigma(widths), alpha, n(exp of powetail), observable range\n",
    "cryspec = zfit.Space(['x'], limits=(3,7)) #obs range\n",
    "ergElec = zfit.Parameter(\"electron energy\", 0.511)\n",
    "fcbalpha = zfit.Parameter(\"fcbalpha\", 2.5, 0.05, 20.0);\n",
    "fcbndeg = zfit.Parameter (\"fcbndeg\", 10, 0.25, 80.);\n",
    "#params for full hist\n",
    "fullPeak = zfit.Parameter( \"full peak\", 6.05, 5.0, 6.75);\n",
    "fullWidth = zfit.Parameter( \"width of the full peak\", 0.35, 0.15, 0.70);\n",
    "#params for fst peak\n",
    "fstEsPeak = fullPeak - ergElec\n",
    "fstWidth = zfit.Parameter(\"width of first escape peak\", 0.35, 0.15, 0.70);\n",
    "#params for scnd peak\n",
    "scdWidth = zfit.Parameter(\"width of second escape peak\", 0.35, 0.15, 0.70);\n",
    "scdEsPeak = fullPeak - 2*ergElec\n",
    "#Note:seems like zfit has an overloading problem with parameter naming"
   ]
  },
  {
   "cell_type": "code",
   "execution_count": 6,
   "metadata": {},
   "outputs": [],
   "source": [
    "#crystal ball function for all 3 peaks\n",
    "fullErg = zfit.pdf.CrystalBall(obs=cryspec, mu=fullPeak, sigma=fullWidth, alpha=fcbalpha, n=fcbndeg)\n",
    "firstErg = zfit.pdf.CrystalBall(obs=cryspec,mu=fstEsPeak,sigma=fstWidth,alpha=fcbalpha, n=fcbndeg)\n",
    "secdErg = zfit.pdf.CrystalBall(obs=cryspec, mu=scdEsPeak, sigma=scdWidth, alpha=fcbalpha, n=fcbndeg)"
   ]
  },
  {
   "cell_type": "code",
   "execution_count": 7,
   "metadata": {},
   "outputs": [],
   "source": [
    "#set limits for observable range\n",
    "lower, upper = cryspec.limits\n",
    "#set x axis as a range of given limits\n",
    "x_plot = np.linspace(lower[-1][0], upper[0][-1], num=60)\n",
    "#use crystal ball function to set y axis and normalise \n",
    "y_plot_full = zfit.run(fullErg.pdf(x_plot,norm_range=cryspec))*x_plot.shape[0]/cryspec.area()\n",
    "y_plot_first = zfit.run(firstErg.pdf(x_plot,norm_range=cryspec))*x_plot.shape[0]/cryspec.area()\n",
    "y_plot_secd = zfit.run(secdErg.pdf(x_plot,norm_range=cryspec))*x_plot.shape[0]/cryspec.area()"
   ]
  },
  {
   "cell_type": "code",
   "execution_count": 8,
   "metadata": {},
   "outputs": [
    {
     "ename": "NameError",
     "evalue": "name 'h_spec' is not defined",
     "output_type": "error",
     "traceback": [
      "\u001b[0;31m---------------------------------------------------------------------------\u001b[0m",
      "\u001b[0;31mNameError\u001b[0m                                 Traceback (most recent call last)",
      "\u001b[0;32m/var/folders/9b/6_fylmnd6ylft4gvh_slwb3h0000gn/T/ipykernel_18628/558155193.py\u001b[0m in \u001b[0;36m<module>\u001b[0;34m\u001b[0m\n\u001b[0;32m----> 1\u001b[0;31m \u001b[0mbin_centers\u001b[0m \u001b[0;34m=\u001b[0m \u001b[0;36m0.5\u001b[0m \u001b[0;34m*\u001b[0m \u001b[0;34m(\u001b[0m\u001b[0mh_spec\u001b[0m\u001b[0;34m[\u001b[0m\u001b[0;36m1\u001b[0m\u001b[0;34m]\u001b[0m\u001b[0;34m[\u001b[0m\u001b[0;36m1\u001b[0m\u001b[0;34m:\u001b[0m\u001b[0;34m]\u001b[0m \u001b[0;34m+\u001b[0m \u001b[0mh_spec\u001b[0m\u001b[0;34m[\u001b[0m\u001b[0;36m1\u001b[0m\u001b[0;34m]\u001b[0m\u001b[0;34m[\u001b[0m\u001b[0;34m:\u001b[0m\u001b[0;34m-\u001b[0m\u001b[0;36m1\u001b[0m\u001b[0;34m]\u001b[0m\u001b[0;34m)\u001b[0m\u001b[0;34m\u001b[0m\u001b[0;34m\u001b[0m\u001b[0m\n\u001b[0m\u001b[1;32m      2\u001b[0m \u001b[0mbin_width\u001b[0m \u001b[0;34m=\u001b[0m \u001b[0mh_spec\u001b[0m\u001b[0;34m[\u001b[0m\u001b[0;36m1\u001b[0m\u001b[0;34m]\u001b[0m\u001b[0;34m[\u001b[0m\u001b[0;36m1\u001b[0m\u001b[0;34m]\u001b[0m \u001b[0;34m-\u001b[0m \u001b[0mh_spec\u001b[0m\u001b[0;34m[\u001b[0m\u001b[0;36m1\u001b[0m\u001b[0;34m]\u001b[0m\u001b[0;34m[\u001b[0m\u001b[0;36m0\u001b[0m\u001b[0;34m]\u001b[0m\u001b[0;34m\u001b[0m\u001b[0;34m\u001b[0m\u001b[0m\n\u001b[1;32m      3\u001b[0m \u001b[0;34m\u001b[0m\u001b[0m\n\u001b[1;32m      4\u001b[0m \u001b[0mfig_spec\u001b[0m\u001b[0;34m,\u001b[0m \u001b[0max_spec\u001b[0m \u001b[0;34m=\u001b[0m \u001b[0mplt\u001b[0m\u001b[0;34m.\u001b[0m\u001b[0msubplots\u001b[0m\u001b[0;34m(\u001b[0m\u001b[0mfigsize\u001b[0m\u001b[0;34m=\u001b[0m\u001b[0;34m(\u001b[0m\u001b[0;36m6\u001b[0m\u001b[0;34m,\u001b[0m\u001b[0;36m6\u001b[0m\u001b[0;34m)\u001b[0m\u001b[0;34m)\u001b[0m\u001b[0;34m\u001b[0m\u001b[0;34m\u001b[0m\u001b[0m\n\u001b[1;32m      5\u001b[0m \u001b[0max_spec\u001b[0m\u001b[0;34m.\u001b[0m\u001b[0mbar\u001b[0m\u001b[0;34m(\u001b[0m\u001b[0mbin_centers\u001b[0m\u001b[0;34m,\u001b[0m \u001b[0mh_spec\u001b[0m\u001b[0;34m[\u001b[0m\u001b[0;36m0\u001b[0m\u001b[0;34m]\u001b[0m\u001b[0;34m,\u001b[0m \u001b[0mwidth\u001b[0m \u001b[0;34m=\u001b[0m \u001b[0mbin_width\u001b[0m\u001b[0;34m)\u001b[0m\u001b[0;34m\u001b[0m\u001b[0;34m\u001b[0m\u001b[0m\n",
      "\u001b[0;31mNameError\u001b[0m: name 'h_spec' is not defined"
     ]
    }
   ],
   "source": [
    "bin_centers = 0.5 * (h_spec[1][1:] + h_spec[1][:-1])\n",
    "bin_width = h_spec[1][1] - h_spec[1][0]\n",
    "\n",
    "fig_spec, ax_spec = plt.subplots(figsize=(6,6))\n",
    "ax_spec.bar(bin_centers, h_spec[0], width = bin_width)\n",
    "plt.plot(x_plot, y_plot_full, color=\"yellow\", label='Full Peak')\n",
    "plt.plot(x_plot, y_plot_first, color=\"red\",label='1st Esc Peak')\n",
    "plt.plot(x_plot, y_plot_secd, color=\"cyan\",label='2nd Esc Peak')\n",
    "plt.ylabel('-',fontsize=17)\n",
    "plt.xlabel('E_reco [MeV]',fontsize=12)\n",
    "plt.xticks(fontsize=12)\n",
    "plt.yticks(fontsize=12)\n",
    "leg = plt.legend(fontsize=12);\n",
    "plt.title(\"Energy Spectrum for Crystal 867\");\n",
    "plt.show\n"
   ]
  },
  {
   "cell_type": "code",
   "execution_count": 169,
   "metadata": {},
   "outputs": [
    {
     "data": {
      "text/plain": [
       "[<matplotlib.lines.Line2D at 0x7fcec8f87ac0>]"
      ]
     },
     "execution_count": 169,
     "metadata": {},
     "output_type": "execute_result"
    },
    {
     "data": {
      "image/png": "[encoded data removed]",
      "text/plain": [
       "<Figure size 432x288 with 1 Axes>"
      ]
     },
     "metadata": {
      "needs_background": "light"
     },
     "output_type": "display_data"
    }
   ],
   "source": [
    "plt.plot(x_plot, y_plot_full, color=\"yellow\", label='Full Peak')\n",
    "plt.plot(x_plot, y_plot_first, color=\"red\",label='1st Esc Peak')\n",
    "plt.plot(x_plot, y_plot_secd, color=\"cyan\",label='2nd Esc Peak')"
   ]
  },
  {
   "cell_type": "code",
   "execution_count": null,
   "metadata": {},
   "outputs": [],
   "source": [
    "m_e = 9.109*10^[-31]\n",
    "E_full = 6.13\n",
    "escpeak_1 = E_full - m_e\n",
    "escpeak_2 = E_full - 2*m_e"
   ]
  },
  {
   "cell_type": "code",
   "execution_count": 154,
   "metadata": {},
   "outputs": [
    {
     "name": "stdout",
     "output_type": "stream",
     "text": [
      "1\n",
      "tf.Tensor([4.], shape=(1,), dtype=float64)\n",
      "60\n"
     ]
    }
   ],
   "source": [
    "#obs = zfit.Space(['x'], limits=(3,7))\n",
    "lower, upper = cryspec.limits\n",
    "x_plot_full = np.linspace(lower[-1][0], upper[0][-1], num=1000)\n",
    "y_plot_full = zfit.run(fullErg.pdf(x_plot_full,norm_range=cryspec))*60\n",
    "x_plot_first = np.linspace(lower[-1][0:], upper[0][-1], num=1000)\n",
    "y_plot_first = zfit.run(firstErg.pdf(x_plot_first,norm_range=cryspec))*60\n",
    "#plt.plot(x_plot_full, y_plot_full)\n",
    "#plt.plot(x_plot_first, y_plot_first)\n",
    "#print(lower[0][0])\n",
    "#print(lower[-1][0])\n",
    "#print(upper[0][0])\n",
    "#print(upper[-1][0])\n",
    "#print(x_plot_full)\n",
    "#print(y_plot_full)\n",
    "print(len(h_spec[:1]))\n",
    "print(cryspec.area())\n",
    "print(x_plot.shape[0])"
   ]
  },
  {
   "cell_type": "code",
   "execution_count": null,
   "metadata": {},
   "outputs": [],
   "source": []
  },
  {
   "cell_type": "code",
   "execution_count": null,
   "metadata": {},
   "outputs": [],
   "source": []
  }
 ],
 "metadata": {
  "kernelspec": {
   "display_name": "Python 3 (ipykernel)",
   "language": "python",
   "name": "python3"
  },
  "language_info": {
   "codemirror_mode": {
    "name": "ipython",
    "version": 3
   },
   "file_extension": ".py",
   "mimetype": "text/x-python",
   "name": "python",
   "nbconvert_exporter": "python",
   "pygments_lexer": "ipython3",
   "version": "3.9.10"
  }
 },
 "nbformat": 4,
 "nbformat_minor": 4
}
