{
 "cells": [
  {
   "cell_type": "markdown",
   "id": "ec2f37cd-5f5b-4e6d-b17e-b3e63d2312bf",
   "metadata": {},
   "source": [
    "This notebook is to calculate the calibration rates "
   ]
  },
  {
   "cell_type": "code",
   "execution_count": 2,
   "id": "3aae1e6d-03f1-4a38-812f-1fd8ed8626c0",
   "metadata": {},
   "outputs": [],
   "source": [
    "import matplotlib.pyplot as plt\n",
    "import numpy as np\n",
    "import math"
   ]
  },
  {
   "cell_type": "code",
   "execution_count": 101,
   "id": "b1e2d3e1-b1b8-4b0c-b067-dfd2c099b1f1",
   "metadata": {},
   "outputs": [],
   "source": [
    "sim_gam = 6.5e+7 # total number of photons simulated in GEANT4\n",
    "n_xtal = 1348/2 # total number of crystals \n",
    "V_xtal =  0.0019/n_xtal #Volume of fluid at a crystal\n",
    "V_bath = 0.021 #Volume of bath at dt generator \n",
    "n_16N = 1.4e+8 #Number of 16N in bath  \n",
    "density_16N = n_16N/ V_bath#6.5e+9 #Number density of 16N in bath\n",
    "a = 0.40 #Attenuation from bath to furthest crystal\n",
    "\n",
    "##TODO::write equation relating simulated gammas and number of alibration gammas\n",
    "tao = 10.3 #Lifetime of 16N\n",
    "n_gam =63000 #sim_gam/n_xtal #number of calibration gammas per calibration per crystal\n",
    "e_geom = (n_xtal)/ (7e-5 * sim_gam ) #Geometric efficiency to enter crystal\n",
    "#todo::need to recalculate since we may be using differnt model\n",
    "\n",
    "##todo:: need to do reconstruction efficiency-- look at what they were doing\n",
    "n_N_xtal = V_xtal*density_16N*a #Number of 16N at crystal\n",
    "T_cal = (n_gam*tao)/(e_geom*n_N_xtal) #Time duration of calibration (in seconds)"
   ]
  },
  {
   "cell_type": "code",
   "execution_count": 102,
   "id": "cd37a048-c31f-409b-bd7c-094a6ab3dc48",
   "metadata": {},
   "outputs": [
    {
     "name": "stdout",
     "output_type": "stream",
     "text": [
      "Number of photons simulated in GEANT4:  6.50e+07\n",
      "Number of calibration gammas per crystal:  6.30e+04\n",
      "Time needed for calibration (in minutes):  9.71\n",
      "Time needed for calibration (in seconds):  582.7292763157895\n"
     ]
    }
   ],
   "source": [
    "print(\"Number of photons simulated in GEANT4: \",\"{:0.2e}\".format(sim_gam))\n",
    "print(\"Number of calibration gammas per crystal: \", \"{:0.2e}\".format(n_gam))\n",
    "print(\"Time needed for calibration (in minutes): \",\"{:0.3}\".format(T_cal/60))\n",
    "print(\"Time needed for calibration (in seconds): \",T_cal)"
   ]
  },
  {
   "cell_type": "code",
   "execution_count": 103,
   "id": "df40b56e-908e-4e1b-ae24-be12941a872d",
   "metadata": {},
   "outputs": [
    {
     "data": {
      "text/plain": [
       "48219.584569732935"
      ]
     },
     "execution_count": 103,
     "metadata": {},
     "output_type": "execute_result"
    }
   ],
   "source": [
    "6.5e+7/N_crys"
   ]
  },
  {
   "cell_type": "code",
   "execution_count": 86,
   "id": "31dc6e3b-ff91-4d9a-8b03-d14af3040257",
   "metadata": {},
   "outputs": [
    {
     "name": "stdout",
     "output_type": "stream",
     "text": [
      "0.29626373626373625\n"
     ]
    }
   ],
   "source": [
    "print(e_geom)"
   ]
  },
  {
   "cell_type": "code",
   "execution_count": 81,
   "id": "319e07b6-5046-49ef-bab7-08a42a6b40df",
   "metadata": {},
   "outputs": [
    {
     "name": "stdout",
     "output_type": "stream",
     "text": [
      "6666666666.666666\n"
     ]
    }
   ],
   "source": [
    "print(density_16N)"
   ]
  },
  {
   "cell_type": "code",
   "execution_count": 90,
   "id": "26cd40c0-1435-480b-add3-2fa0ca1d81eb",
   "metadata": {},
   "outputs": [
    {
     "data": {
      "text/plain": [
       "48219.584569732935"
      ]
     },
     "execution_count": 90,
     "metadata": {},
     "output_type": "execute_result"
    }
   ],
   "source": [
    "sim_gam/n_xtal"
   ]
  },
  {
   "cell_type": "code",
   "execution_count": 94,
   "id": "8c8c81a6-df1c-4bf6-b579-6191cd06b7ab",
   "metadata": {},
   "outputs": [
    {
     "data": {
      "text/plain": [
       "2931071.972167863"
      ]
     },
     "execution_count": 94,
     "metadata": {},
     "output_type": "execute_result"
    }
   ],
   "source": [
    "n_xtal/(7e-5*6.57)"
   ]
  },
  {
   "cell_type": "code",
   "execution_count": 95,
   "id": "4f744b3a-fc96-4a83-b57f-acc6e05e355f",
   "metadata": {},
   "outputs": [
    {
     "data": {
      "text/plain": [
       "14828000"
      ]
     },
     "execution_count": 95,
     "metadata": {},
     "output_type": "execute_result"
    }
   ],
   "source": [
    "11000*1348"
   ]
  },
  {
   "cell_type": "code",
   "execution_count": 96,
   "id": "1799b52c-bdeb-4ae8-97f3-c08832134670",
   "metadata": {},
   "outputs": [
    {
     "data": {
      "text/plain": [
       "0.23809523809523808"
      ]
     },
     "execution_count": 96,
     "metadata": {},
     "output_type": "execute_result"
    }
   ],
   "source": [
    "15/63"
   ]
  },
  {
   "cell_type": "code",
   "execution_count": null,
   "id": "04ba1360-d884-4f85-87f4-c2175bb0c73f",
   "metadata": {},
   "outputs": [],
   "source": []
  }
 ],
 "metadata": {
  "kernelspec": {
   "display_name": "Python 3 (ipykernel)",
   "language": "python",
   "name": "python3"
  },
  "language_info": {
   "codemirror_mode": {
    "name": "ipython",
    "version": 3
   },
   "file_extension": ".py",
   "mimetype": "text/x-python",
   "name": "python",
   "nbconvert_exporter": "python",
   "pygments_lexer": "ipython3",
   "version": "3.10.9"
  }
 },
 "nbformat": 4,
 "nbformat_minor": 5
}
