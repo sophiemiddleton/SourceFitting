{
 "cells": [
  {
   "cell_type": "markdown",
   "id": "f1210123-8103-4514-b038-6508732a809c",
   "metadata": {},
   "source": [
    "This notebook intends to use chi sq fit instead of nll to check differences between original and my code"
   ]
  },
  {
   "cell_type": "code",
   "execution_count": 1,
   "id": "6b595f27-f471-41b6-87e7-94903be3430e",
   "metadata": {},
   "outputs": [
    {
     "name": "stderr",
     "output_type": "stream",
     "text": [
      "/opt/anaconda3/envs/m2_req/lib/python3.10/site-packages/zfit/__init__.py:59: UserWarning: TensorFlow warnings are by default suppressed by zfit. In order to show them, set the environment variable ZFIT_DISABLE_TF_WARNINGS=0. In order to suppress the TensorFlow warnings AND this warning, set ZFIT_DISABLE_TF_WARNINGS=1.\n",
      "  warnings.warn(\n"
     ]
    }
   ],
   "source": [
    "import uproot\n",
    "import tensorflow as tf\n",
    "import zfit\n",
    "import awkward as ak\n",
    "import matplotlib.pyplot as plt\n",
    "import numpy as np\n",
    "import scipy\n",
    "import math\n",
    "import hepstats"
   ]
  },
  {
   "cell_type": "code",
   "execution_count": 56,
   "id": "11cc8d08-4ad7-4499-9394-52b655d1466e",
   "metadata": {},
   "outputs": [],
   "source": [
    "data = zfit.Data.from_root(\"mu2e_caloSimu_crySpec1345_simEdep.root\", \"specTree\", [\"spec\",\"truespec\", \"ratio\", \"ntrig\", \"stim\", \"time\", \"tErg\"]) #importing data from root file\n",
    "cryspec = zfit.Space(['x'], limits=(2,8)) #observable range:: 1.5 limit is placed in fcl file\n",
    "energy_unbinned = zfit.Data(data[\"spec\"],obs=cryspec) #zfit.Data is used for unbinned data, obs has to be specified\n",
    "MC_energy = zfit.Data(data[\"truespec\"],obs=cryspec) #zfit.Data is used for unbinned data, obs has to be specified"
   ]
  },
  {
   "cell_type": "code",
   "execution_count": 3,
   "id": "2f9f6bb7-208c-477d-bb7a-fa256afde308",
   "metadata": {},
   "outputs": [
    {
     "data": {
      "image/png": "[encoded data removed]",
      "text/plain": [
       "<Figure size 640x480 with 1 Axes>"
      ]
     },
     "metadata": {},
     "output_type": "display_data"
    }
   ],
   "source": [
    "bin_count = 260 #trivially set depending on what we want the y axis to represent (x evts/kev)\n",
    "energy_binned, bin_location, patches = plt.hist(energy_unbinned,bins=bin_count,histtype='step',range=(2,8)) #binning data and creating an x array of bin location"
   ]
  },
  {
   "cell_type": "code",
   "execution_count": 4,
   "id": "91dbe4f8-e184-4430-a108-9e9b7a415269",
   "metadata": {},
   "outputs": [
    {
     "name": "stdout",
     "output_type": "stream",
     "text": [
      "4696\n"
     ]
    }
   ],
   "source": [
    "print(len(data))"
   ]
  },
  {
   "cell_type": "code",
   "execution_count": 5,
   "id": "0cf188dd-7aad-42de-bf95-0f63703946da",
   "metadata": {},
   "outputs": [],
   "source": [
    "# defining functions for composed parameters\n",
    "def frac_res_formula(params):\n",
    "    return tf.pow((tf.pow(params[\"a\"]/tf.pow((params[\"peak\"]/1000),0.25),2)),0.5) + (params[\"b\"])**2 + (params[\"c\"]/params[\"peak\"])**2\n",
    "\n",
    "def multiply(params):\n",
    "    return params[\"c\"]*params[\"d\"]\n",
    "\n",
    "def subtract(params):\n",
    "    return params[\"x\"]-params[\"y\"]\n",
    "\n",
    "def EvnBG_formula(params):\n",
    "    return params[\"total\"]-params[\"full\"]-params[\"first\"]-params[\"second\"]"
   ]
  },
  {
   "cell_type": "code",
   "execution_count": 6,
   "id": "89b16772-09bb-45f7-80ef-50d9af164970",
   "metadata": {},
   "outputs": [
    {
     "name": "stdout",
     "output_type": "stream",
     "text": [
      "----------------FRAC RES---------------\n",
      "<zfit.ComposedParameter 'Composed Full frac Res' params=[('a', 'A constant'), ('b', 'B constant'), ('c', 'FIXED_autoparam_2'), ('peak', 'full peak')] value=0.2866>\n",
      "<zfit.ComposedParameter 'Composed First frac Res' params=[('a', 'A constant'), ('b', 'B constant'), ('c', 'FIXED_autoparam_3'), ('peak', 'composed fst peak')] value=0.2875>\n",
      "<zfit.ComposedParameter 'Composed Second frac Res' params=[('a', 'A constant'), ('b', 'B constant'), ('c', 'FIXED_autoparam_4'), ('peak', 'composed scd peak')] value=0.2886>\n",
      "-----------------WIDTHS---------------\n",
      "<zfit.ComposedParameter 'width of the full peak' params=[('c', 'full peak'), ('d', 'Composed Full frac Res')] value=1.719>\n",
      "<zfit.ComposedParameter 'width of the first peak' params=[('c', 'composed fst peak'), ('d', 'Composed First frac Res')] value=1.578>\n",
      "<zfit.ComposedParameter 'width of the second peak' params=[('c', 'composed scd peak'), ('d', 'Composed Second frac Res')] value=1.436>\n",
      "------------------------\n",
      "<zfit.ComposedParameter 'composed scd peak' params=[('x', 'full peak'), ('y', 'FIXED_autoparam_1')] value=4.978>\n",
      "<zfit.ComposedParameter 'Composed First frac Res' params=[('a', 'A constant'), ('b', 'B constant'), ('c', 'FIXED_autoparam_3'), ('peak', 'composed fst peak')] value=0.2875>\n",
      "<zfit.Parameter 'No. of Events in second escape peak' floating=True value=500>\n"
     ]
    }
   ],
   "source": [
    "ergElec = 0.511  #mass of electron in MeV \n",
    "fcbalpha = zfit.Parameter(\"fcbalpha\", 2.5, 0.05, 20.0); # crystal ball constant alpha:: parameter where to switch from a gaussian to the powertail\n",
    "fcbndeg = zfit.Parameter (\"fcbndeg\", 10, 0.25, 100); # crystal ball constant n::Exponent of the powertail\n",
    "A = zfit.Parameter (\"A constant\", 0.01, 0.005, 1); # coefficient of E(GeV)^1/4\n",
    "B = zfit.Parameter (\"B constant\", 0.5, 0.005, 1); # Constant term\n",
    "C = 0.15 # Electronic noise in MeV\n",
    "tot_evns = len(energy_unbinned) #total number of events\n",
    "\n",
    "#Peaks\n",
    "fullPeak = zfit.Parameter(\"full peak\", 6,4,6.5); \n",
    "fstEsPeak = zfit.ComposedParameter(\"composed fst peak\", subtract, params={\"x\":fullPeak,\"y\":ergElec})\n",
    "scdEsPeak = zfit.ComposedParameter(\"composed scd peak\", subtract, params={\"x\":fullPeak,\"y\":2*ergElec})\n",
    "\n",
    "#fractional resolution\n",
    "fullRes = zfit.ComposedParameter(\"Composed Full frac Res\",frac_res_formula , params = {\"a\":A, \"b\":B,\"c\":C,\"peak\":fullPeak})\n",
    "fstRes = zfit.ComposedParameter(\"Composed First frac Res\",frac_res_formula , params = {\"a\":A, \"b\":B,\"c\":C,\"peak\":fstEsPeak})\n",
    "scdRes = zfit.ComposedParameter(\"Composed Second frac Res\",frac_res_formula , params = {\"a\":A, \"b\":B,\"c\":C,\"peak\":scdEsPeak})\n",
    "\n",
    "#widths \n",
    "fullWidth = zfit.ComposedParameter(\"width of the full peak\",multiply,params = {\"c\":fullPeak,\"d\":fullRes} )\n",
    "fstWidth = zfit.ComposedParameter(\"width of the first peak\",multiply,params = {\"c\":fstEsPeak,\"d\":fstRes} ) \n",
    "scdWidth = zfit.ComposedParameter(\"width of the second peak\",multiply,params = {\"c\":scdEsPeak,\"d\":scdRes} )\n",
    "\n",
    "#number of events in peak\n",
    "EvnFull = zfit.Parameter(\"No. of Events in full peak\", 500);\n",
    "EvnFrst = zfit.Parameter(\"No. of Events in first escape peak\", 500);\n",
    "#EvnScd = zfit.ComposedParameter(\"No. of Events in second escape peak\", EvnScd_func, params={\"total\":EvnSignal, \"full\":EvnFull,\"first\":EvnFrst});\n",
    "EvnScd = zfit.Parameter(\"No. of Events in second escape peak\", 500)\n",
    "#EvnBG = zfit.ComposedParameter(\"Fraction of logistic background\",subtract, params={\"x\":tot_evns,\"y\":Evnsignal})\n",
    "EvnBG = zfit.ComposedParameter(\"Fraction of logistic background\",EvnBG_formula, params={\"total\":tot_evns, \"full\":EvnFull,\"first\":EvnFrst,\"second\":EvnScd})\n",
    "\n",
    "#logistic background parameters\n",
    "comCnst = zfit.Parameter(\"comCnst\", 4, 1, 20)\n",
    "combeta = zfit.Parameter(\"combeta\", 1, 0.01, 30)\n",
    "\n",
    "print('----------------FRAC RES---------------')\n",
    "print(fullRes)\n",
    "print(fstRes)\n",
    "print(scdRes)\n",
    "print('-----------------WIDTHS---------------')\n",
    "print(fullWidth)\n",
    "print(fstWidth)\n",
    "print(scdWidth)\n",
    "print(\"------------------------\")\n",
    "print(scdEsPeak)\n",
    "print(fstRes)\n",
    "#print(EvnScd)\n",
    "print(EvnScd)"
   ]
  },
  {
   "cell_type": "code",
   "execution_count": 7,
   "id": "4234225b-80b7-40fe-a050-6da50c476d80",
   "metadata": {},
   "outputs": [],
   "source": [
    "class bckgrndPDF(zfit.pdf.ZPDF):\n",
    "    _N_OBS = 1\n",
    "    _PARAMS = ['comCnst3', 'combeta3']  # the name of the parameters\n",
    "\n",
    "    def _unnormalized_pdf(self, x):\n",
    "        x = zfit.z.unstack_x(x)\n",
    "        comCnst = self.params['comCnst3']\n",
    "        combeta = self.params['combeta3']\n",
    "        return 1.0/(1.0+tf.math.exp((x-comCnst)/combeta))"
   ]
  },
  {
   "cell_type": "code",
   "execution_count": 8,
   "id": "70a96b9a-38fb-43d8-a74e-720173bbeb28",
   "metadata": {},
   "outputs": [],
   "source": [
    "lower, upper = cryspec.limits\n",
    "x_range= cryspec.area()\n",
    "\n",
    "#the pdfs below are normalised to =1 so must apply scaling factor \n",
    "scale = (len(energy_unbinned)/bin_count)*x_range\n",
    "\n",
    "#TODO:: integrate from low bin edge to high bin edge instead of using bin center\n",
    "bin_centers =  (bin_location[1:] + bin_location[:-1])/2"
   ]
  },
  {
   "cell_type": "code",
   "execution_count": 9,
   "id": "4cd7bdef-d01c-45e6-bb84-b8db9e73a383",
   "metadata": {},
   "outputs": [],
   "source": [
    "fullErg = zfit.pdf.CrystalBall(obs=cryspec, mu=fullPeak, sigma=fullWidth, alpha=fcbalpha, n=fcbndeg, extended=EvnFull)\n",
    "#extended= frfull*frsignal does not work in the minimiser-- solution: make extended = # number pf events and when plotting pdf/total # events\n",
    "firstErg = zfit.pdf.CrystalBall(obs=cryspec,mu=fstEsPeak,sigma=fstWidth,alpha=fcbalpha, n=fcbndeg, extended=EvnFrst)\n",
    "secdErg = zfit.pdf.CrystalBall(obs=cryspec, mu=scdEsPeak, sigma=scdWidth, alpha=fcbalpha, n=fcbndeg, extended=EvnScd)\n",
    "background = bckgrndPDF(obs=cryspec, comCnst3=comCnst,combeta3=combeta, extended = EvnBG)\n",
    "signal_fit = zfit.pdf.SumPDF([fullErg,firstErg,secdErg],obs=cryspec,extended = True)\n",
    "comb_fit = zfit.pdf.SumPDF([fullErg,firstErg,secdErg,background],obs=cryspec,extended = True)"
   ]
  },
  {
   "cell_type": "code",
   "execution_count": 10,
   "id": "ee5f13ed-a945-4bdf-81ac-9c6339e28fbf",
   "metadata": {},
   "outputs": [],
   "source": [
    "fullErg = zfit.pdf.CrystalBall(obs=cryspec, mu=fullPeak, sigma=fullWidth, alpha=fcbalpha, n=fcbndeg, extended=EvnFull)\n",
    "#extended= frfull*frsignal does not work in the minimiser-- solution: make extended = # number pf events and when plotting pdf/total # events\n",
    "firstErg = zfit.pdf.CrystalBall(obs=cryspec,mu=fstEsPeak,sigma=fstWidth,alpha=fcbalpha, n=fcbndeg, extended=EvnFrst)\n",
    "secdErg = zfit.pdf.CrystalBall(obs=cryspec, mu=scdEsPeak, sigma=scdWidth, alpha=fcbalpha, n=fcbndeg, extended=EvnScd)\n",
    "background = bckgrndPDF(obs=cryspec, comCnst3=comCnst,combeta3=combeta, extended = EvnBG)\n",
    "signal_fit = zfit.pdf.SumPDF([fullErg,firstErg,secdErg],obs=cryspec,extended = True)\n",
    "comb_fit = zfit.pdf.SumPDF([fullErg,firstErg,secdErg,background],obs=cryspec,extended = True)"
   ]
  },
  {
   "cell_type": "code",
   "execution_count": 11,
   "id": "19c1d2e3-0776-4e2a-a793-e92477734aa4",
   "metadata": {},
   "outputs": [],
   "source": [
    "y_plot_full = fullErg.pdf(bin_centers,norm_range=cryspec)\n",
    "y_plot_first = firstErg.pdf(bin_centers,norm_range=cryspec)\n",
    "y_plot_secd = secdErg.pdf(bin_centers,norm_range=cryspec)\n",
    "y_plot_comb = comb_fit.pdf(bin_centers,norm_range=cryspec)\n",
    "y_plot_logistic = background.pdf(bin_centers,norm_range=cryspec)\n",
    "y_plot_signal = signal_fit.pdf(bin_centers,norm_range=cryspec)"
   ]
  },
  {
   "cell_type": "code",
   "execution_count": 12,
   "id": "57d178cf-e978-4a1a-b7dc-d155583e33e2",
   "metadata": {},
   "outputs": [
    {
     "data": {
      "text/plain": [
       "Text(0.5, 0, 'E_reco [MeV]')"
      ]
     },
     "execution_count": 12,
     "metadata": {},
     "output_type": "execute_result"
    },
    {
     "data": {
      "image/png": "[encoded data removed]",
      "text/plain": [
       "<Figure size 600x400 with 1 Axes>"
      ]
     },
     "metadata": {},
     "output_type": "display_data"
    }
   ],
   "source": [
    "fig, ax = plt.subplots(1,1,figsize=(6,4))\n",
    "ax.hist(energy_unbinned,bins=bin_count,histtype='step',range=(2,8))\n",
    "\n",
    "plt.plot(bin_centers, y_plot_full*scale*EvnFull/len(energy_unbinned), color=\"olive\", label='Full Peak CB')\n",
    "plt.plot(bin_centers, y_plot_first*scale*EvnFrst/len(energy_unbinned), color=\"magenta\",label='1st Esc Peak')\n",
    "plt.plot(bin_centers, y_plot_secd*scale*EvnScd/len(energy_unbinned), color=\"cyan\",label='2nd Esc Peak')\n",
    "#logistic background\n",
    "plt.plot(bin_centers, y_plot_logistic*scale*EvnBG/len(energy_unbinned), color=\"black\", label='Full Peak CB')\n",
    "\n",
    "#Combined Fit\n",
    "plt.plot(bin_centers, y_plot_comb*scale, color=\"red\",label='Combined Fit')\n",
    "\n",
    "plt.title(\"Energy Spectrum for Crystal 675\", fontsize=16)\n",
    "plt.ylabel('Events per 25 keV',fontsize=12)\n",
    "plt.xlabel('E_reco [MeV]',fontsize=12)"
   ]
  },
  {
   "cell_type": "code",
   "execution_count": 13,
   "id": "1298aa0a-18c9-4950-ba76-f7469e841dcf",
   "metadata": {},
   "outputs": [
    {
     "name": "stdout",
     "output_type": "stream",
     "text": [
      "Sum of binned data: 4574.0\n",
      "Length of unbinned data 4574\n",
      "Integral of crystal ball fit = 4557.037823299031\n"
     ]
    }
   ],
   "source": [
    "#check to see if sum of binned data is accurate length of unbinned data\n",
    "print(\"Sum of binned data:\",np.sum(energy_binned))\n",
    "print(\"Length of unbinned data\",len(energy_unbinned))\n",
    "alldata_integral = scipy.integrate.trapz(y_plot_comb*scale)\n",
    "print(\"Integral of crystal ball fit =\",alldata_integral)"
   ]
  },
  {
   "cell_type": "raw",
   "id": "2b071b39-45f5-42e5-a6f1-6088016b247a",
   "metadata": {},
   "source": [
    "#constraint = zfit.core.constraint.SimpleConstraint(EvnFull+EvnFrst+EvnScd+EvnBG==len(energy_unbinned),params=[EvnFull,EvnFrst,EvnScd,EvnBG])\n",
    "\n",
    "nll_comb = zfit.loss.ExtendedUnbinnedNLL(model=comb_fit, data=energy_unbinned)#, constraints=constraint)\n",
    "\n",
    "minimizer = zfit.minimize.Minuit()\n",
    "\n",
    "result = minimizer.minimize(nll_comb, params=[A,B,fcbalpha,fcbndeg,\n",
    "                                                  fullPeak,EvnFull,\n",
    "                                                  EvnFrst,EvnScd,\n",
    "                                                  comCnst,combeta])\n",
    "param_hesse = result.hesse()\n",
    "\n",
    "\n",
    "print(result)\n",
    "print('----------------FRAC RES---------------')\n",
    "print(fullRes)\n",
    "print(fstRes)\n",
    "print(scdRes)\n",
    "print('-----------------WIDTHS---------------')\n",
    "print(fullWidth)\n",
    "print(fstWidth)\n",
    "print(scdWidth)\n",
    "print('-----------------PEAKS----------------')\n",
    "#print(\"Actual value of Frst Peak:\",fstEsPeak)\n",
    "#print(\"Actual value of Scnd Peak:\",scdEsPeak)\n",
    "#print(\"Expected value of Frst Peak:\",fullPeak-0.511)\n",
    "#print(\"Expected value of scnd Peak:\",fullPeak-2*0.511)\n",
    "print(fullPeak)\n",
    "print(fstEsPeak)\n",
    "print(scdEsPeak)\n",
    "print('----------------# EVTS----------------')\n",
    "print(EvnFull)\n",
    "print(EvnFrst)\n",
    "print(EvnScd)\n",
    "print(EvnBG)\n",
    "print('-----------------TOTALS--------------')\n",
    "print(\"Total # of evts:\",len(energy_unbinned))\n",
    "print(\"Total Sum of all 4 fractions: \", EvnFull+EvnFrst+EvnScd+EvnBG)"
   ]
  },
  {
   "cell_type": "code",
   "execution_count": 60,
   "id": "2dba3501-868c-4a5e-9406-9fd18ae37b72",
   "metadata": {},
   "outputs": [],
   "source": [
    "#print(energy_binned)\n",
    "#binned_energy = zfit.data.BinnedData(*) #zfit.Data is used for unbinned data, obs has to be specified\n",
    "\n",
    "binning = zfit.binned.RegularBinning(lower, upper, len(energy_binned), name=\"x\")\n",
    "obs_bin = zfit.Space(\"x\", binning=binning)\n",
    "model_binned = comb_fit.to_binned(obs_bin)\n",
    "binned_energy=energy_unbinned.to_binned(obs_bin)"
   ]
  },
  {
   "cell_type": "code",
   "execution_count": 61,
   "id": "8eacdec2-d2ec-475e-97b6-248ca1a90fcc",
   "metadata": {},
   "outputs": [
    {
     "ename": "RuntimeError",
     "evalue": "Loss starts already with NaN, cannot minimize.",
     "output_type": "error",
     "traceback": [
      "\u001b[0;31m---------------------------------------------------------------------------\u001b[0m",
      "\u001b[0;31mRuntimeError\u001b[0m                              Traceback (most recent call last)",
      "Cell \u001b[0;32mIn[61], line 8\u001b[0m\n\u001b[1;32m      4\u001b[0m chisq_comb \u001b[38;5;241m=\u001b[39m zfit\u001b[38;5;241m.\u001b[39mloss\u001b[38;5;241m.\u001b[39mExtendedBinnedChi2(model\u001b[38;5;241m=\u001b[39mmodel_binned, data\u001b[38;5;241m=\u001b[39mbinned_energy)\u001b[38;5;66;03m#, constraints=constraint)\u001b[39;00m\n\u001b[1;32m      6\u001b[0m minimizer_chisq \u001b[38;5;241m=\u001b[39m zfit\u001b[38;5;241m.\u001b[39mminimize\u001b[38;5;241m.\u001b[39mMinuit()\n\u001b[0;32m----> 8\u001b[0m result_chisq \u001b[38;5;241m=\u001b[39m \u001b[43mminimizer_chisq\u001b[49m\u001b[38;5;241;43m.\u001b[39;49m\u001b[43mminimize\u001b[49m\u001b[43m(\u001b[49m\u001b[43mchisq_comb\u001b[49m\u001b[43m,\u001b[49m\u001b[43m \u001b[49m\u001b[43mparams\u001b[49m\u001b[38;5;241;43m=\u001b[39;49m\u001b[43m[\u001b[49m\u001b[43mA\u001b[49m\u001b[43m,\u001b[49m\u001b[43mB\u001b[49m\u001b[43m,\u001b[49m\u001b[43mfcbalpha\u001b[49m\u001b[43m,\u001b[49m\u001b[43mfcbndeg\u001b[49m\u001b[43m,\u001b[49m\n\u001b[1;32m      9\u001b[0m \u001b[43m                                                  \u001b[49m\u001b[43mfullPeak\u001b[49m\u001b[43m,\u001b[49m\u001b[43mEvnFull\u001b[49m\u001b[43m,\u001b[49m\n\u001b[1;32m     10\u001b[0m \u001b[43m                                                  \u001b[49m\u001b[43mEvnFrst\u001b[49m\u001b[43m,\u001b[49m\u001b[43mEvnScd\u001b[49m\u001b[43m,\u001b[49m\n\u001b[1;32m     11\u001b[0m \u001b[43m                                                  \u001b[49m\u001b[43mcomCnst\u001b[49m\u001b[43m,\u001b[49m\u001b[43mcombeta\u001b[49m\u001b[43m]\u001b[49m\u001b[43m)\u001b[49m\n\u001b[1;32m     12\u001b[0m param_hesse \u001b[38;5;241m=\u001b[39m result_chisq\u001b[38;5;241m.\u001b[39mhesse()\n\u001b[1;32m     15\u001b[0m \u001b[38;5;28mprint\u001b[39m(result_chisq)\n",
      "File \u001b[0;32m/opt/anaconda3/envs/m2_req/lib/python3.10/site-packages/zfit/minimizers/baseminimizer.py:486\u001b[0m, in \u001b[0;36mBaseMinimizer.minimize\u001b[0;34m(self, loss, params, init)\u001b[0m\n\u001b[1;32m    484\u001b[0m loss, params, init \u001b[38;5;241m=\u001b[39m \u001b[38;5;28mself\u001b[39m\u001b[38;5;241m.\u001b[39m_check_convert_input(loss\u001b[38;5;241m=\u001b[39mloss, params\u001b[38;5;241m=\u001b[39mparams, init\u001b[38;5;241m=\u001b[39minit, floating\u001b[38;5;241m=\u001b[39m\u001b[38;5;28;01mTrue\u001b[39;00m)\n\u001b[1;32m    485\u001b[0m \u001b[38;5;28;01mwith\u001b[39;00m \u001b[38;5;28mself\u001b[39m\u001b[38;5;241m.\u001b[39m_make_stateful(loss\u001b[38;5;241m=\u001b[39mloss, params\u001b[38;5;241m=\u001b[39mparams, init\u001b[38;5;241m=\u001b[39minit):\n\u001b[0;32m--> 486\u001b[0m     \u001b[38;5;28;01mreturn\u001b[39;00m \u001b[38;5;28;43mself\u001b[39;49m\u001b[38;5;241;43m.\u001b[39;49m\u001b[43m_call_minimize\u001b[49m\u001b[43m(\u001b[49m\u001b[43mloss\u001b[49m\u001b[38;5;241;43m=\u001b[39;49m\u001b[43mloss\u001b[49m\u001b[43m,\u001b[49m\u001b[43m \u001b[49m\u001b[43mparams\u001b[49m\u001b[38;5;241;43m=\u001b[39;49m\u001b[43mparams\u001b[49m\u001b[43m,\u001b[49m\u001b[43m \u001b[49m\u001b[43minit\u001b[49m\u001b[38;5;241;43m=\u001b[39;49m\u001b[43minit\u001b[49m\u001b[43m)\u001b[49m\n",
      "File \u001b[0;32m/opt/anaconda3/envs/m2_req/lib/python3.10/site-packages/zfit/minimizers/baseminimizer.py:498\u001b[0m, in \u001b[0;36mBaseMinimizer._call_minimize\u001b[0;34m(self, loss, params, init)\u001b[0m\n\u001b[1;32m    495\u001b[0m prelim_result \u001b[38;5;241m=\u001b[39m \u001b[38;5;28;01mNone\u001b[39;00m\n\u001b[1;32m    497\u001b[0m \u001b[38;5;28;01mtry\u001b[39;00m:\n\u001b[0;32m--> 498\u001b[0m     result \u001b[38;5;241m=\u001b[39m \u001b[38;5;28;43mself\u001b[39;49m\u001b[38;5;241;43m.\u001b[39;49m\u001b[43m_minimize\u001b[49m\u001b[43m(\u001b[49m\u001b[43mloss\u001b[49m\u001b[38;5;241;43m=\u001b[39;49m\u001b[43mloss\u001b[49m\u001b[43m,\u001b[49m\u001b[43m \u001b[49m\u001b[43mparams\u001b[49m\u001b[38;5;241;43m=\u001b[39;49m\u001b[43mparams\u001b[49m\u001b[43m,\u001b[49m\u001b[43m \u001b[49m\u001b[43minit\u001b[49m\u001b[38;5;241;43m=\u001b[39;49m\u001b[43minit\u001b[49m\u001b[43m)\u001b[49m\n\u001b[1;32m    499\u001b[0m \u001b[38;5;28;01mexcept\u001b[39;00m \u001b[38;5;167;01mTypeError\u001b[39;00m \u001b[38;5;28;01mas\u001b[39;00m error:\n\u001b[1;32m    500\u001b[0m     \u001b[38;5;28;01mif\u001b[39;00m \u001b[38;5;124m\"\u001b[39m\u001b[38;5;124mgot an unexpected keyword argument \u001b[39m\u001b[38;5;124m'\u001b[39m\u001b[38;5;124minit\u001b[39m\u001b[38;5;124m'\u001b[39m\u001b[38;5;124m\"\u001b[39m \u001b[38;5;129;01min\u001b[39;00m error\u001b[38;5;241m.\u001b[39margs[\u001b[38;5;241m0\u001b[39m]:\n",
      "File \u001b[0;32m/opt/anaconda3/envs/m2_req/lib/python3.10/site-packages/zfit/minimizers/baseminimizer.py:93\u001b[0m, in \u001b[0;36mminimize_supports.<locals>.wrapper.<locals>.new_func\u001b[0;34m(*args, **kwargs)\u001b[0m\n\u001b[1;32m     91\u001b[0m \u001b[38;5;28;01mif\u001b[39;00m \u001b[38;5;129;01mnot\u001b[39;00m can_handle:\n\u001b[1;32m     92\u001b[0m     \u001b[38;5;28;01mraise\u001b[39;00m InitNotImplemented\n\u001b[0;32m---> 93\u001b[0m \u001b[38;5;28;01mreturn\u001b[39;00m \u001b[43mfunc\u001b[49m\u001b[43m(\u001b[49m\u001b[38;5;241;43m*\u001b[39;49m\u001b[43margs\u001b[49m\u001b[43m,\u001b[49m\u001b[43m \u001b[49m\u001b[38;5;241;43m*\u001b[39;49m\u001b[38;5;241;43m*\u001b[39;49m\u001b[43mkwargs\u001b[49m\u001b[43m)\u001b[49m\n",
      "File \u001b[0;32m/opt/anaconda3/envs/m2_req/lib/python3.10/site-packages/zfit/minimizers/minimizer_minuit.py:187\u001b[0m, in \u001b[0;36mMinuit._minimize\u001b[0;34m(self, loss, params, init)\u001b[0m\n\u001b[1;32m    184\u001b[0m \u001b[38;5;28;01mfor\u001b[39;00m i \u001b[38;5;129;01min\u001b[39;00m \u001b[38;5;28mrange\u001b[39m(\u001b[38;5;28mself\u001b[39m\u001b[38;5;241m.\u001b[39m_internal_maxiter):\n\u001b[1;32m    185\u001b[0m     \u001b[38;5;66;03m# perform minimization\u001b[39;00m\n\u001b[1;32m    186\u001b[0m     \u001b[38;5;28;01mtry\u001b[39;00m:\n\u001b[0;32m--> 187\u001b[0m         minimizer \u001b[38;5;241m=\u001b[39m \u001b[43mminimizer\u001b[49m\u001b[38;5;241;43m.\u001b[39;49m\u001b[43mmigrad\u001b[49m\u001b[43m(\u001b[49m\u001b[38;5;241;43m*\u001b[39;49m\u001b[38;5;241;43m*\u001b[39;49m\u001b[43mminimize_options\u001b[49m\u001b[43m)\u001b[49m\n\u001b[1;32m    188\u001b[0m     \u001b[38;5;28;01mexcept\u001b[39;00m MaximumIterationReached \u001b[38;5;28;01mas\u001b[39;00m error:\n\u001b[1;32m    189\u001b[0m         \u001b[38;5;28;01mif\u001b[39;00m minimizer \u001b[38;5;129;01mis\u001b[39;00m \u001b[38;5;28;01mNone\u001b[39;00m:  \u001b[38;5;66;03m# it didn't even run once\u001b[39;00m\n",
      "File \u001b[0;32m/opt/anaconda3/envs/m2_req/lib/python3.10/site-packages/iminuit/minuit.py:791\u001b[0m, in \u001b[0;36mMinuit.migrad\u001b[0;34m(self, ncall, iterate)\u001b[0m\n\u001b[1;32m    789\u001b[0m \u001b[38;5;28;01mif\u001b[39;00m \u001b[38;5;28mself\u001b[39m\u001b[38;5;241m.\u001b[39m_precision \u001b[38;5;129;01mis\u001b[39;00m \u001b[38;5;129;01mnot\u001b[39;00m \u001b[38;5;28;01mNone\u001b[39;00m:\n\u001b[1;32m    790\u001b[0m     migrad\u001b[38;5;241m.\u001b[39mprecision \u001b[38;5;241m=\u001b[39m \u001b[38;5;28mself\u001b[39m\u001b[38;5;241m.\u001b[39m_precision\n\u001b[0;32m--> 791\u001b[0m fm \u001b[38;5;241m=\u001b[39m \u001b[43mmigrad\u001b[49m\u001b[43m(\u001b[49m\u001b[43mncall\u001b[49m\u001b[43m,\u001b[49m\u001b[43m \u001b[49m\u001b[38;5;28;43mself\u001b[39;49m\u001b[38;5;241;43m.\u001b[39;49m\u001b[43m_tolerance\u001b[49m\u001b[43m)\u001b[49m\n\u001b[1;32m    792\u001b[0m \u001b[38;5;28;01mif\u001b[39;00m fm\u001b[38;5;241m.\u001b[39mis_valid \u001b[38;5;129;01mor\u001b[39;00m fm\u001b[38;5;241m.\u001b[39mhas_reached_call_limit:\n\u001b[1;32m    793\u001b[0m     \u001b[38;5;28;01mbreak\u001b[39;00m\n",
      "File \u001b[0;32m/opt/anaconda3/envs/m2_req/lib/python3.10/site-packages/zfit/minimizers/evaluation.py:277\u001b[0m, in \u001b[0;36mLossEval.value\u001b[0;34m(self, values)\u001b[0m\n\u001b[1;32m    270\u001b[0m     \u001b[38;5;28mself\u001b[39m\u001b[38;5;241m.\u001b[39mnan_counter \u001b[38;5;241m+\u001b[39m\u001b[38;5;241m=\u001b[39m \u001b[38;5;241m1\u001b[39m\n\u001b[1;32m    271\u001b[0m     info_values \u001b[38;5;241m=\u001b[39m {\n\u001b[1;32m    272\u001b[0m         \u001b[38;5;124m\"\u001b[39m\u001b[38;5;124mloss\u001b[39m\u001b[38;5;124m\"\u001b[39m: loss_value,\n\u001b[1;32m    273\u001b[0m         \u001b[38;5;124m\"\u001b[39m\u001b[38;5;124mold_loss\u001b[39m\u001b[38;5;124m\"\u001b[39m: \u001b[38;5;28mself\u001b[39m\u001b[38;5;241m.\u001b[39mlast_value,\n\u001b[1;32m    274\u001b[0m         \u001b[38;5;124m\"\u001b[39m\u001b[38;5;124mnan_counter\u001b[39m\u001b[38;5;124m\"\u001b[39m: \u001b[38;5;28mself\u001b[39m\u001b[38;5;241m.\u001b[39mnan_counter,\n\u001b[1;32m    275\u001b[0m     }\n\u001b[0;32m--> 277\u001b[0m     loss_value, _ \u001b[38;5;241m=\u001b[39m \u001b[38;5;28;43mself\u001b[39;49m\u001b[38;5;241;43m.\u001b[39;49m\u001b[43mstrategy\u001b[49m\u001b[38;5;241;43m.\u001b[39;49m\u001b[43mminimize_nan\u001b[49m\u001b[43m(\u001b[49m\u001b[43mloss\u001b[49m\u001b[38;5;241;43m=\u001b[39;49m\u001b[38;5;28;43mself\u001b[39;49m\u001b[38;5;241;43m.\u001b[39;49m\u001b[43mloss\u001b[49m\u001b[43m,\u001b[49m\u001b[43m \u001b[49m\u001b[43mparams\u001b[49m\u001b[38;5;241;43m=\u001b[39;49m\u001b[43mparams\u001b[49m\u001b[43m,\u001b[49m\u001b[43m \u001b[49m\u001b[43mvalues\u001b[49m\u001b[38;5;241;43m=\u001b[39;49m\u001b[43minfo_values\u001b[49m\u001b[43m)\u001b[49m\n\u001b[1;32m    278\u001b[0m \u001b[38;5;28;01melse\u001b[39;00m:\n\u001b[1;32m    279\u001b[0m     \u001b[38;5;28mself\u001b[39m\u001b[38;5;241m.\u001b[39mnan_counter \u001b[38;5;241m=\u001b[39m \u001b[38;5;241m0\u001b[39m\n",
      "File \u001b[0;32m/opt/anaconda3/envs/m2_req/lib/python3.10/site-packages/zfit/minimizers/strategy.py:127\u001b[0m, in \u001b[0;36mmake_pushback_strategy.<locals>.PushbackStrategy.minimize_nan\u001b[0;34m(self, loss, params, values)\u001b[0m\n\u001b[1;32m    125\u001b[0m     \u001b[38;5;28;01mif\u001b[39;00m \u001b[38;5;28misinstance\u001b[39m(loss_evaluated, \u001b[38;5;28mstr\u001b[39m):\n\u001b[1;32m    126\u001b[0m         msg \u001b[38;5;241m=\u001b[39m \u001b[38;5;124m\"\u001b[39m\u001b[38;5;124mLoss starts already with NaN, cannot minimize.\u001b[39m\u001b[38;5;124m\"\u001b[39m\n\u001b[0;32m--> 127\u001b[0m         \u001b[38;5;28;01mraise\u001b[39;00m \u001b[38;5;167;01mRuntimeError\u001b[39;00m(msg)\n\u001b[1;32m    128\u001b[0m     \u001b[38;5;28;01mreturn\u001b[39;00m loss_evaluated, last_grad\n\u001b[1;32m    129\u001b[0m \u001b[38;5;28;01melse\u001b[39;00m:\n",
      "\u001b[0;31mRuntimeError\u001b[0m: Loss starts already with NaN, cannot minimize."
     ]
    }
   ],
   "source": [
    "#zfit.loss.BinnedChi2\n",
    "#constraint = zfit.core.constraint.SimpleConstraint(EvnFull+EvnFrst+EvnScd+EvnBG==len(energy_unbinned),params=[EvnFull,EvnFrst,EvnScd,EvnBG])\n",
    "\n",
    "chisq_comb = zfit.loss.ExtendedBinnedChi2(model=model_binned, data=binned_energy)#, constraints=constraint)\n",
    "\n",
    "minimizer_chisq = zfit.minimize.Minuit()\n",
    "\n",
    "result_chisq = minimizer_chisq.minimize(chisq_comb, params=[A,B,fcbalpha,fcbndeg,\n",
    "                                                  fullPeak,EvnFull,\n",
    "                                                  EvnFrst,EvnScd,\n",
    "                                                  comCnst,combeta])\n",
    "param_hesse = result_chisq.hesse()\n",
    "\n",
    "\n",
    "print(result_chisq)\n",
    "print('----------------FRAC RES---------------')\n",
    "print(fullRes)\n",
    "print(fstRes)\n",
    "print(scdRes)\n",
    "print('-----------------WIDTHS---------------')\n",
    "print(fullWidth)\n",
    "print(fstWidth)\n",
    "print(scdWidth)\n",
    "print('-----------------PEAKS----------------')\n",
    "#print(\"Actual value of Frst Peak:\",fstEsPeak)\n",
    "#print(\"Actual value of Scnd Peak:\",scdEsPeak)\n",
    "#print(\"Expected value of Frst Peak:\",fullPeak-0.511)\n",
    "#print(\"Expected value of scnd Peak:\",fullPeak-2*0.511)\n",
    "print(fullPeak)\n",
    "print(fstEsPeak)\n",
    "print(scdEsPeak)\n",
    "print('----------------# EVTS----------------')\n",
    "print(EvnFull)\n",
    "print(EvnFrst)\n",
    "print(EvnScd)\n",
    "print(EvnBG)\n",
    "print('-----------------TOTALS--------------')\n",
    "print(\"Total # of evts:\",len(energy_unbinned))\n",
    "print(\"Total Sum of all 4 fractions: \", EvnFull+EvnFrst+EvnScd+EvnBG)"
   ]
  },
  {
   "cell_type": "code",
   "execution_count": null,
   "id": "59916eb5-a49a-4fd2-b182-c13531e90516",
   "metadata": {},
   "outputs": [],
   "source": [
    "# running pdfs again to load the minimized values of params\n",
    "y_plot_full = fullErg.pdf(bin_centers,norm_range=cryspec)\n",
    "y_plot_first = firstErg.pdf(bin_centers,norm_range=cryspec)\n",
    "y_plot_secd = secdErg.pdf(bin_centers,norm_range=cryspec)\n",
    "y_plot_comb = comb_fit.pdf(bin_centers,norm_range=cryspec)\n",
    "y_plot_logistic = background.pdf(bin_centers,norm_range=cryspec)"
   ]
  },
  {
   "cell_type": "code",
   "execution_count": null,
   "id": "96728897-907b-4e99-92fa-b97ec953a63b",
   "metadata": {},
   "outputs": [],
   "source": [
    "# combining binned data so that atleast 7 data points in each bin\n",
    "combined_bins = []\n",
    "current_bin = []\n",
    "\n",
    "combined_edges = []\n",
    "current_edge = []\n",
    "left_edge = []\n",
    "temp_bin = []\n",
    "for (i,j) in zip(energy_binned,bin_location):\n",
    "    current_bin.append(i)\n",
    "    current_edge.append(j)\n",
    "\n",
    "    if sum(current_bin)>=7:\n",
    "        combined_bins.append(sum(current_bin[:]))\n",
    "        combined_edges.append(current_edge.pop(0))\n",
    "        current_edge.clear()\n",
    "        current_bin.clear()\n",
    "        \n",
    "        \n",
    "y_plot_comb_combedges = comb_fit.pdf(combined_edges,norm_range=cryspec)\n",
    "\n",
    "chi_sq = np.sum(((y_plot_comb_combedges*scale)-(combined_bins))**2/(combined_bins))\n",
    "\n",
    "ndf = len(combined_edges)-10-1"
   ]
  },
  {
   "cell_type": "code",
   "execution_count": null,
   "id": "4d6a0527-1458-4e25-9689-e76bd0b88848",
   "metadata": {},
   "outputs": [],
   "source": [
    "p_value = scipy.stats.chi2.sf(chi_sq,ndf)\n",
    "print(format(p_value,'0.2e'))"
   ]
  },
  {
   "cell_type": "code",
   "execution_count": null,
   "id": "8848adb8-5995-4a12-aa79-92bca61e18b4",
   "metadata": {},
   "outputs": [],
   "source": [
    "fig, ax = plt.subplots(1,1,figsize=(8,5))\n",
    "energy_binned, bin_location, patches = ax.hist(energy_unbinned,\n",
    "                           bins=(bin_count),histtype='step',\n",
    "                           range=(2,8), label= \"Energy in Crys\")\n",
    "\n",
    "plt.plot(bin_centers, y_plot_full*scale*EvnFull/len(energy_unbinned), color=\"olive\", label='Full Peak CB')\n",
    "plt.plot(bin_centers, y_plot_first*scale*EvnFrst/len(energy_unbinned), color=\"magenta\",label='1st Esc Peak')\n",
    "plt.plot(bin_centers, y_plot_secd*scale*EvnScd/len(energy_unbinned), color=\"cyan\",label='2nd Esc Peak')\n",
    "#logistic background\n",
    "plt.plot(bin_centers, y_plot_logistic*scale*EvnBG/len(energy_unbinned), color=\"black\", label='Logistic Bg')\n",
    "\n",
    "#Combined Fit\n",
    "plt.plot(bin_centers, y_plot_comb*scale, color=\"red\",label='Combined Fit')\n",
    "\n",
    "\n",
    "# TODO:: create label box with info about chi sq, ndof, etc\n",
    "plt.text(2,65,\"\\u03C7\\u00B2/ndf:\"+str(round((chi_sq/ndf),2)),fontsize=13)\n",
    "plt.text(2,60,\"ndf: \"+str(round(ndf,2)),fontsize=13)\n",
    "plt.text(2,55,\"\\u03C7\\u00B2: \"+str(round(chi_sq,2)),fontsize=13)\n",
    "plt.text(2,50,\"p_value: \"+str(format(p_value,'0.2e')),fontsize=13)\n",
    "plt.text(2,45,\"# of evts: \"+str(len(data)),fontsize=13)\n",
    "\n",
    "\n",
    "plt.title(\"Energy Spectrum for Crystal 1345\", fontsize=16)\n",
    "plt.ylabel('Events per 25 keV',fontsize=12)\n",
    "plt.xlabel('E_reco [MeV]',fontsize=12)\n",
    "leg = plt.legend(fontsize=12);"
   ]
  },
  {
   "cell_type": "code",
   "execution_count": null,
   "id": "8c132958-02f5-4416-9030-126b9781e67b",
   "metadata": {},
   "outputs": [],
   "source": []
  }
 ],
 "metadata": {
  "kernelspec": {
   "display_name": "Python 3 (ipykernel)",
   "language": "python",
   "name": "python3"
  },
  "language_info": {
   "codemirror_mode": {
    "name": "ipython",
    "version": 3
   },
   "file_extension": ".py",
   "mimetype": "text/x-python",
   "name": "python",
   "nbconvert_exporter": "python",
   "pygments_lexer": "ipython3",
   "version": "3.10.9"
  }
 },
 "nbformat": 4,
 "nbformat_minor": 5
}
